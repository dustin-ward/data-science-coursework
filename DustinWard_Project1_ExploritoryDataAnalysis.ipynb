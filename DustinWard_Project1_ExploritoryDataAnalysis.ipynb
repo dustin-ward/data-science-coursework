{
  "nbformat": 4,
  "nbformat_minor": 0,
  "metadata": {
    "colab": {
      "name": "Copy of DustinWard - Project1_ExploritoryDataAnalysis.ipynb",
      "provenance": [],
      "collapsed_sections": []
    },
    "kernelspec": {
      "name": "python3",
      "display_name": "Python 3"
    }
  },
  "cells": [
    {
      "cell_type": "markdown",
      "metadata": {
        "id": "DqPzbMV5v_NQ"
      },
      "source": [
        "<img src='http://drive.google.com/uc?export=view&id=1Lv8NU_SuGQ9uVjU8N6_NwNi72qbSnbQL'>"
      ]
    },
    {
      "cell_type": "markdown",
      "metadata": {
        "id": "vAAwrni29gHo"
      },
      "source": [
        "# <font color='lightblue'>Exploritory Data Analysis</font>"
      ]
    },
    {
      "cell_type": "markdown",
      "metadata": {
        "id": "jyHOvgcK2Oj0"
      },
      "source": [
        "In this project you will perform an exploritory data analysis (EDA) using visualizations and correlations. You may choose from one of the datasets within the [class shared data folder](https://drive.google.com/drive/folders/1s2Civxvys_SR1sFF7D2ept1GSmFbICQb?usp=sharing), or search for a dataset that interests you the most! [Kaggle](https://www.kaggle.com/datasets?fileType=csv) is a good place to start, as they often have relatively clean and easy to use datasets, but feel free to explore other places. There is a lot of data out there!\n",
        "\n",
        "In this project you will:\n",
        "\n",
        "1.  Choose and download a dataset\n",
        "2.  Get summary statistics for key variables\n",
        "3.  Create visuals to help understand your data\n",
        "4.  Use correlation to measure relationships between key variables\n",
        "5.  Summarise how EDA helped (or not!) in understanding your dataset\n",
        "\n"
      ]
    },
    {
      "cell_type": "markdown",
      "metadata": {
        "id": "wBv_U2EwAWFS"
      },
      "source": [
        "Import python libraries\n"
      ]
    },
    {
      "cell_type": "code",
      "metadata": {
        "id": "npo0C3reAbqn"
      },
      "source": [
        "\n",
        "import pandas as pd\n",
        "import matplotlib.pyplot as plt\n",
        "import seaborn as sns\n"
      ],
      "execution_count": null,
      "outputs": []
    },
    {
      "cell_type": "markdown",
      "metadata": {
        "id": "KvGK8HSV-lql"
      },
      "source": [
        "## <font color='lightblue'>1. Data </font>"
      ]
    },
    {
      "cell_type": "markdown",
      "metadata": {
        "id": "M2r3E549wJZL"
      },
      "source": [
        "**Action:** Import your data into colaboratory.\n"
      ]
    },
    {
      "cell_type": "code",
      "metadata": {
        "id": "sobqsVEo4tyE",
        "colab": {
          "base_uri": "https://localhost:8080/",
          "height": 206
        },
        "outputId": "85ca275d-b34b-432f-fd03-d136e3649f9c"
      },
      "source": [
        "top_songs = pd.read_csv('/content/Spotify 2010 - 2019 Top 100.csv')\n",
        "\n",
        "# Remove last 3 rows (They are null values)\n",
        "top_songs = top_songs[0:999]\n",
        "\n",
        "# Convert type on years to integers\n",
        "top_songs['year released'] = top_songs['year released'].astype('Int64')\n",
        "top_songs['top year'] = top_songs['top year'].astype('Int64')\n",
        "\n",
        "# Show some of the dataset\n",
        "top_songs.head()"
      ],
      "execution_count": null,
      "outputs": [
        {
          "output_type": "execute_result",
          "data": {
            "text/plain": [
              "                                           title      artist    top genre  \\\n",
              "0                  STARSTRUKK (feat. Katy Perry)       3OH!3    dance pop   \n",
              "1                    My First Kiss (feat. Ke$ha)       3OH!3    dance pop   \n",
              "2                                I Need A Dollar  Aloe Blacc     pop soul   \n",
              "3  Airplanes (feat. Hayley Williams of Paramore)       B.o.B  atl hip hop   \n",
              "4              Nothin' on You (feat. Bruno Mars)       B.o.B  atl hip hop   \n",
              "\n",
              "   year released       added    bpm  nrgy  dnce   dB  live   val    dur  \\\n",
              "0           2009  2022‑02‑17  140.0  81.0  61.0 -6.0  23.0  23.0  203.0   \n",
              "1           2010  2022‑02‑17  138.0  89.0  68.0 -4.0  36.0  83.0  192.0   \n",
              "2           2010  2022‑02‑17   95.0  48.0  84.0 -7.0   9.0  96.0  243.0   \n",
              "3           2010  2022‑02‑17   93.0  87.0  66.0 -4.0   4.0  38.0  180.0   \n",
              "4           2010  2022‑02‑17  104.0  85.0  69.0 -6.0   9.0  74.0  268.0   \n",
              "\n",
              "   acous  spch   pop  top year artist type  \n",
              "0    0.0   6.0  70.0      2010         Duo  \n",
              "1    1.0   8.0  68.0      2010         Duo  \n",
              "2   20.0   3.0  72.0      2010        Solo  \n",
              "3   11.0  12.0  80.0      2010        Solo  \n",
              "4   39.0   5.0  79.0      2010        Solo  "
            ],
            "text/html": [
              "\n",
              "  <div id=\"df-0531f2aa-56ef-4250-a4a3-ca2f4f749e4b\">\n",
              "    <div class=\"colab-df-container\">\n",
              "      <div>\n",
              "<style scoped>\n",
              "    .dataframe tbody tr th:only-of-type {\n",
              "        vertical-align: middle;\n",
              "    }\n",
              "\n",
              "    .dataframe tbody tr th {\n",
              "        vertical-align: top;\n",
              "    }\n",
              "\n",
              "    .dataframe thead th {\n",
              "        text-align: right;\n",
              "    }\n",
              "</style>\n",
              "<table border=\"1\" class=\"dataframe\">\n",
              "  <thead>\n",
              "    <tr style=\"text-align: right;\">\n",
              "      <th></th>\n",
              "      <th>title</th>\n",
              "      <th>artist</th>\n",
              "      <th>top genre</th>\n",
              "      <th>year released</th>\n",
              "      <th>added</th>\n",
              "      <th>bpm</th>\n",
              "      <th>nrgy</th>\n",
              "      <th>dnce</th>\n",
              "      <th>dB</th>\n",
              "      <th>live</th>\n",
              "      <th>val</th>\n",
              "      <th>dur</th>\n",
              "      <th>acous</th>\n",
              "      <th>spch</th>\n",
              "      <th>pop</th>\n",
              "      <th>top year</th>\n",
              "      <th>artist type</th>\n",
              "    </tr>\n",
              "  </thead>\n",
              "  <tbody>\n",
              "    <tr>\n",
              "      <th>0</th>\n",
              "      <td>STARSTRUKK (feat. Katy Perry)</td>\n",
              "      <td>3OH!3</td>\n",
              "      <td>dance pop</td>\n",
              "      <td>2009</td>\n",
              "      <td>2022‑02‑17</td>\n",
              "      <td>140.0</td>\n",
              "      <td>81.0</td>\n",
              "      <td>61.0</td>\n",
              "      <td>-6.0</td>\n",
              "      <td>23.0</td>\n",
              "      <td>23.0</td>\n",
              "      <td>203.0</td>\n",
              "      <td>0.0</td>\n",
              "      <td>6.0</td>\n",
              "      <td>70.0</td>\n",
              "      <td>2010</td>\n",
              "      <td>Duo</td>\n",
              "    </tr>\n",
              "    <tr>\n",
              "      <th>1</th>\n",
              "      <td>My First Kiss (feat. Ke$ha)</td>\n",
              "      <td>3OH!3</td>\n",
              "      <td>dance pop</td>\n",
              "      <td>2010</td>\n",
              "      <td>2022‑02‑17</td>\n",
              "      <td>138.0</td>\n",
              "      <td>89.0</td>\n",
              "      <td>68.0</td>\n",
              "      <td>-4.0</td>\n",
              "      <td>36.0</td>\n",
              "      <td>83.0</td>\n",
              "      <td>192.0</td>\n",
              "      <td>1.0</td>\n",
              "      <td>8.0</td>\n",
              "      <td>68.0</td>\n",
              "      <td>2010</td>\n",
              "      <td>Duo</td>\n",
              "    </tr>\n",
              "    <tr>\n",
              "      <th>2</th>\n",
              "      <td>I Need A Dollar</td>\n",
              "      <td>Aloe Blacc</td>\n",
              "      <td>pop soul</td>\n",
              "      <td>2010</td>\n",
              "      <td>2022‑02‑17</td>\n",
              "      <td>95.0</td>\n",
              "      <td>48.0</td>\n",
              "      <td>84.0</td>\n",
              "      <td>-7.0</td>\n",
              "      <td>9.0</td>\n",
              "      <td>96.0</td>\n",
              "      <td>243.0</td>\n",
              "      <td>20.0</td>\n",
              "      <td>3.0</td>\n",
              "      <td>72.0</td>\n",
              "      <td>2010</td>\n",
              "      <td>Solo</td>\n",
              "    </tr>\n",
              "    <tr>\n",
              "      <th>3</th>\n",
              "      <td>Airplanes (feat. Hayley Williams of Paramore)</td>\n",
              "      <td>B.o.B</td>\n",
              "      <td>atl hip hop</td>\n",
              "      <td>2010</td>\n",
              "      <td>2022‑02‑17</td>\n",
              "      <td>93.0</td>\n",
              "      <td>87.0</td>\n",
              "      <td>66.0</td>\n",
              "      <td>-4.0</td>\n",
              "      <td>4.0</td>\n",
              "      <td>38.0</td>\n",
              "      <td>180.0</td>\n",
              "      <td>11.0</td>\n",
              "      <td>12.0</td>\n",
              "      <td>80.0</td>\n",
              "      <td>2010</td>\n",
              "      <td>Solo</td>\n",
              "    </tr>\n",
              "    <tr>\n",
              "      <th>4</th>\n",
              "      <td>Nothin' on You (feat. Bruno Mars)</td>\n",
              "      <td>B.o.B</td>\n",
              "      <td>atl hip hop</td>\n",
              "      <td>2010</td>\n",
              "      <td>2022‑02‑17</td>\n",
              "      <td>104.0</td>\n",
              "      <td>85.0</td>\n",
              "      <td>69.0</td>\n",
              "      <td>-6.0</td>\n",
              "      <td>9.0</td>\n",
              "      <td>74.0</td>\n",
              "      <td>268.0</td>\n",
              "      <td>39.0</td>\n",
              "      <td>5.0</td>\n",
              "      <td>79.0</td>\n",
              "      <td>2010</td>\n",
              "      <td>Solo</td>\n",
              "    </tr>\n",
              "  </tbody>\n",
              "</table>\n",
              "</div>\n",
              "      <button class=\"colab-df-convert\" onclick=\"convertToInteractive('df-0531f2aa-56ef-4250-a4a3-ca2f4f749e4b')\"\n",
              "              title=\"Convert this dataframe to an interactive table.\"\n",
              "              style=\"display:none;\">\n",
              "        \n",
              "  <svg xmlns=\"http://www.w3.org/2000/svg\" height=\"24px\"viewBox=\"0 0 24 24\"\n",
              "       width=\"24px\">\n",
              "    <path d=\"M0 0h24v24H0V0z\" fill=\"none\"/>\n",
              "    <path d=\"M18.56 5.44l.94 2.06.94-2.06 2.06-.94-2.06-.94-.94-2.06-.94 2.06-2.06.94zm-11 1L8.5 8.5l.94-2.06 2.06-.94-2.06-.94L8.5 2.5l-.94 2.06-2.06.94zm10 10l.94 2.06.94-2.06 2.06-.94-2.06-.94-.94-2.06-.94 2.06-2.06.94z\"/><path d=\"M17.41 7.96l-1.37-1.37c-.4-.4-.92-.59-1.43-.59-.52 0-1.04.2-1.43.59L10.3 9.45l-7.72 7.72c-.78.78-.78 2.05 0 2.83L4 21.41c.39.39.9.59 1.41.59.51 0 1.02-.2 1.41-.59l7.78-7.78 2.81-2.81c.8-.78.8-2.07 0-2.86zM5.41 20L4 18.59l7.72-7.72 1.47 1.35L5.41 20z\"/>\n",
              "  </svg>\n",
              "      </button>\n",
              "      \n",
              "  <style>\n",
              "    .colab-df-container {\n",
              "      display:flex;\n",
              "      flex-wrap:wrap;\n",
              "      gap: 12px;\n",
              "    }\n",
              "\n",
              "    .colab-df-convert {\n",
              "      background-color: #E8F0FE;\n",
              "      border: none;\n",
              "      border-radius: 50%;\n",
              "      cursor: pointer;\n",
              "      display: none;\n",
              "      fill: #1967D2;\n",
              "      height: 32px;\n",
              "      padding: 0 0 0 0;\n",
              "      width: 32px;\n",
              "    }\n",
              "\n",
              "    .colab-df-convert:hover {\n",
              "      background-color: #E2EBFA;\n",
              "      box-shadow: 0px 1px 2px rgba(60, 64, 67, 0.3), 0px 1px 3px 1px rgba(60, 64, 67, 0.15);\n",
              "      fill: #174EA6;\n",
              "    }\n",
              "\n",
              "    [theme=dark] .colab-df-convert {\n",
              "      background-color: #3B4455;\n",
              "      fill: #D2E3FC;\n",
              "    }\n",
              "\n",
              "    [theme=dark] .colab-df-convert:hover {\n",
              "      background-color: #434B5C;\n",
              "      box-shadow: 0px 1px 3px 1px rgba(0, 0, 0, 0.15);\n",
              "      filter: drop-shadow(0px 1px 2px rgba(0, 0, 0, 0.3));\n",
              "      fill: #FFFFFF;\n",
              "    }\n",
              "  </style>\n",
              "\n",
              "      <script>\n",
              "        const buttonEl =\n",
              "          document.querySelector('#df-0531f2aa-56ef-4250-a4a3-ca2f4f749e4b button.colab-df-convert');\n",
              "        buttonEl.style.display =\n",
              "          google.colab.kernel.accessAllowed ? 'block' : 'none';\n",
              "\n",
              "        async function convertToInteractive(key) {\n",
              "          const element = document.querySelector('#df-0531f2aa-56ef-4250-a4a3-ca2f4f749e4b');\n",
              "          const dataTable =\n",
              "            await google.colab.kernel.invokeFunction('convertToInteractive',\n",
              "                                                     [key], {});\n",
              "          if (!dataTable) return;\n",
              "\n",
              "          const docLinkHtml = 'Like what you see? Visit the ' +\n",
              "            '<a target=\"_blank\" href=https://colab.research.google.com/notebooks/data_table.ipynb>data table notebook</a>'\n",
              "            + ' to learn more about interactive tables.';\n",
              "          element.innerHTML = '';\n",
              "          dataTable['output_type'] = 'display_data';\n",
              "          await google.colab.output.renderOutput(dataTable, element);\n",
              "          const docLink = document.createElement('div');\n",
              "          docLink.innerHTML = docLinkHtml;\n",
              "          element.appendChild(docLink);\n",
              "        }\n",
              "      </script>\n",
              "    </div>\n",
              "  </div>\n",
              "  "
            ]
          },
          "metadata": {},
          "execution_count": 38
        }
      ]
    },
    {
      "cell_type": "markdown",
      "metadata": {
        "id": "BFMyKInr-YxM"
      },
      "source": [
        "**Action:** Determine the types of data are you dealing with."
      ]
    },
    {
      "cell_type": "code",
      "metadata": {
        "id": "FXVrpZ9Z-hfX",
        "colab": {
          "base_uri": "https://localhost:8080/"
        },
        "outputId": "3b41cd26-4e2c-4209-c290-4022d42ace41"
      },
      "source": [
        "top_songs.dtypes"
      ],
      "execution_count": null,
      "outputs": [
        {
          "output_type": "execute_result",
          "data": {
            "text/plain": [
              "title             object\n",
              "artist            object\n",
              "top genre         object\n",
              "year released      Int64\n",
              "added             object\n",
              "bpm              float64\n",
              "nrgy             float64\n",
              "dnce             float64\n",
              "dB               float64\n",
              "live             float64\n",
              "val              float64\n",
              "dur              float64\n",
              "acous            float64\n",
              "spch             float64\n",
              "pop              float64\n",
              "top year           Int64\n",
              "artist type       object\n",
              "dtype: object"
            ]
          },
          "metadata": {},
          "execution_count": 39
        }
      ]
    },
    {
      "cell_type": "markdown",
      "metadata": {
        "id": "kVDi_3vBEkkm"
      },
      "source": [
        "## <font color='lightblue'>2. Summary statistics</font>"
      ]
    },
    {
      "cell_type": "markdown",
      "metadata": {
        "id": "1k9BmJYr-cqt"
      },
      "source": [
        "**Action:** Estimate the summary statistics of some of the key variables"
      ]
    },
    {
      "cell_type": "code",
      "source": [
        "# Helper function to print summary statistics for a given field\n",
        "def SumStats(field):\n",
        "  meanVal = top_songs[field].mean()\n",
        "  medianVal = top_songs[field].median()\n",
        "  modeVal = top_songs[field].mode()\n",
        "  stdVal = top_songs[field].std()\n",
        "\n",
        "  print(\"============ Field:\", field, \"============\")\n",
        "  print(\"mean:\", meanVal)\n",
        "  print(\"median:\", medianVal)\n",
        "  print(\"mode:\", modeVal[0])\n",
        "  print(\"std:\", stdVal)\n",
        "  print(\"\")"
      ],
      "metadata": {
        "id": "awDNJU0IjIdk"
      },
      "execution_count": null,
      "outputs": []
    },
    {
      "cell_type": "code",
      "metadata": {
        "colab": {
          "base_uri": "https://localhost:8080/"
        },
        "outputId": "bb1ebc40-06fd-48e0-f7ff-b142b724b469",
        "id": "6tjDD7tHiXML"
      },
      "source": [
        "# BPM\n",
        "SumStats(\"bpm\")\n",
        "\n",
        "# Energy (nrgy)\n",
        "SumStats(\"nrgy\")\n",
        "\n",
        "# Danceability (dnce)\n",
        "SumStats(\"dnce\")\n",
        "\n",
        "# Positivity (val)\n",
        "SumStats(\"val\")"
      ],
      "execution_count": null,
      "outputs": [
        {
          "output_type": "stream",
          "name": "stdout",
          "text": [
            "============ Field: bpm ============\n",
            "mean: 121.28528528528528\n",
            "median: 122.0\n",
            "mode: 128.0\n",
            "std: 26.24082421351325\n",
            "\n",
            "============ Field: nrgy ============\n",
            "mean: 69.51251251251252\n",
            "median: 71.0\n",
            "mode: 79.0\n",
            "std: 15.965945522468953\n",
            "\n",
            "============ Field: dnce ============\n",
            "mean: 66.86286286286287\n",
            "median: 68.0\n",
            "mode: 67.0\n",
            "std: 13.121912260602958\n",
            "\n",
            "============ Field: val ============\n",
            "mean: 50.933933933933936\n",
            "median: 51.0\n",
            "mode: 45.0\n",
            "std: 21.549022259962523\n",
            "\n"
          ]
        }
      ]
    },
    {
      "cell_type": "markdown",
      "metadata": {
        "id": "9bKY19_k-tlK"
      },
      "source": [
        "## <font color='lightblue'>3. Visualize the data</font>"
      ]
    },
    {
      "cell_type": "markdown",
      "metadata": {
        "id": "Qz3sEa35-yva"
      },
      "source": [
        "**Action:** Visualize the distribution of values for some key variables"
      ]
    },
    {
      "cell_type": "code",
      "metadata": {
        "id": "AtEp7bth-2hF",
        "colab": {
          "base_uri": "https://localhost:8080/",
          "height": 386
        },
        "outputId": "3c2a8309-ad59-4245-b43b-8d3c3fd2f542"
      },
      "source": [
        "# Show distrubtion of all BPM values\n",
        "sns.displot(top_songs, x='bpm', binwidth=5)"
      ],
      "execution_count": null,
      "outputs": [
        {
          "output_type": "execute_result",
          "data": {
            "text/plain": [
              "<seaborn.axisgrid.FacetGrid at 0x7f691eb86f50>"
            ]
          },
          "metadata": {},
          "execution_count": 42
        },
        {
          "output_type": "display_data",
          "data": {
            "text/plain": [
              "<Figure size 360x360 with 1 Axes>"
            ],
            "image/png": "[encoded data removed]"
          },
          "metadata": {
            "needs_background": "light"
          }
        }
      ]
    },
    {
      "cell_type": "code",
      "source": [
        "# Barplot Avg. Energy for each year\n",
        "sns.barplot(data=top_songs, x=\"top year\", y=\"nrgy\" ).set(ylabel='Energy')"
      ],
      "metadata": {
        "colab": {
          "base_uri": "https://localhost:8080/",
          "height": 296
        },
        "id": "obohM-qdAJwx",
        "outputId": "3302b2f0-9eae-4993-bc89-66bd8f2ba601"
      },
      "execution_count": null,
      "outputs": [
        {
          "output_type": "execute_result",
          "data": {
            "text/plain": [
              "[Text(0, 0.5, 'Energy')]"
            ]
          },
          "metadata": {},
          "execution_count": 43
        },
        {
          "output_type": "display_data",
          "data": {
            "text/plain": [
              "<Figure size 432x288 with 1 Axes>"
            ],
            "image/png": "[encoded data removed]"
          },
          "metadata": {
            "needs_background": "light"
          }
        }
      ]
    },
    {
      "cell_type": "code",
      "source": [
        "# Barplot Avg. Danceability for each year\n",
        "sns.barplot(data=top_songs, x=\"top year\", y=\"dnce\" ).set(ylabel='Danceability')"
      ],
      "metadata": {
        "colab": {
          "base_uri": "https://localhost:8080/",
          "height": 296
        },
        "id": "HkgUq3_cBAgx",
        "outputId": "a3692ba5-b4a7-4b47-8d07-3ec79ce0149c"
      },
      "execution_count": null,
      "outputs": [
        {
          "output_type": "execute_result",
          "data": {
            "text/plain": [
              "[Text(0, 0.5, 'Danceability')]"
            ]
          },
          "metadata": {},
          "execution_count": 44
        },
        {
          "output_type": "display_data",
          "data": {
            "text/plain": [
              "<Figure size 432x288 with 1 Axes>"
            ],
            "image/png": "[encoded data removed]"
          },
          "metadata": {
            "needs_background": "light"
          }
        }
      ]
    },
    {
      "cell_type": "code",
      "source": [
        "# Barplot Avg. Positivitiy for each year\n",
        "sns.barplot(data=top_songs, x=\"top year\", y=\"val\" ).set(ylabel='Positivity')"
      ],
      "metadata": {
        "colab": {
          "base_uri": "https://localhost:8080/",
          "height": 296
        },
        "id": "WXP9cTgBBVNM",
        "outputId": "baf108a7-813e-4c4b-ddeb-074893452442"
      },
      "execution_count": null,
      "outputs": [
        {
          "output_type": "execute_result",
          "data": {
            "text/plain": [
              "[Text(0, 0.5, 'Positivity')]"
            ]
          },
          "metadata": {},
          "execution_count": 45
        },
        {
          "output_type": "display_data",
          "data": {
            "text/plain": [
              "<Figure size 432x288 with 1 Axes>"
            ],
            "image/png": "[encoded data removed]"
          },
          "metadata": {
            "needs_background": "light"
          }
        }
      ]
    },
    {
      "cell_type": "markdown",
      "metadata": {
        "id": "ZSAzW3WtEtrR"
      },
      "source": [
        "**Q1:** Explain your choice of plots using the five visualization components: \n",
        "1. Data component -- what kinds of data are you dealing with?\n",
        "2. Graphical component -- what kinds of plot can you use?\n",
        "3. Label component -- what should be on the plot axis?\n",
        "4. Esthetic component -- what should you plot say, and how best to do this?\n",
        "5. Ethical component -- Is the graph misleading, what is left out?"
      ]
    },
    {
      "cell_type": "markdown",
      "source": [
        "1. My chosen fields are all numerical data. The BPM field is a value representing the beats per minute in a song. This is an integer value ranging from approx. 60 to 200. It is a somewhat discrete field. The other 3 fields are a float values ranging from 0 to 100. Each of them is a somewhat subjective rating of a songs \"Energy\", \"Danceability\", and \"Positivity\". They are continuous data points.\n",
        "\n",
        "2. Bar plots seem to work really well here. For BPM it doesnt make much sense to connect each bar because BPM is an integer value, and values that arent multiples of 10 or 5 are uncommon. For the other 3 values it can also help to categorize them by year. Otherwise we see a somewhat normal distribution over many years.\n",
        "\n",
        "3. For the BPM distribution, it makes sense to have the count along the y-axis, and bpm along the x-axis. For other plots, having time (top year) along the x-axis is more correct and can help show trends left to right.\n",
        "\n",
        "4. Categorizing the fields by top year will help to show how these values have changed over the last decade. We want to see some overall trend from left to right. The only field that this does not work for is the BPM plot, as this seems to remain fairly constant over the years.\n",
        "\n",
        "5. I dont think these plots are misleading, but there are some interesting things to consider: These are only the top 100 songs of each year. I also do not know if this global top 100 or just north american. Each song has a different level of promotion that could lead to an unnatural placement for a song. The specifics on how these values is also a point of concern, as they are just values provided by spotify. \n"
      ],
      "metadata": {
        "id": "JUcJVJpcBheJ"
      }
    },
    {
      "cell_type": "markdown",
      "metadata": {
        "id": "X3j3SzCVGJ8V"
      },
      "source": [
        "## <font color='lightblue'>4. Correlations</font>"
      ]
    },
    {
      "cell_type": "markdown",
      "metadata": {
        "id": "8YYsjvaB-27-"
      },
      "source": [
        "**Action:** Use correlation to estimate the relationship between some of the key variables. Try exploring for interesting relationships using heatmaps."
      ]
    },
    {
      "cell_type": "code",
      "metadata": {
        "id": "lMeA3Tdx_NY3",
        "colab": {
          "base_uri": "https://localhost:8080/",
          "height": 345
        },
        "outputId": "9c64b380-6c9d-4ad2-dd2c-97fa633593e9"
      },
      "source": [
        "# Generate Correlation map\n",
        "correlation = top_songs.corr()\n",
        "sns.heatmap(correlation, cmap=\"coolwarm\")"
      ],
      "execution_count": null,
      "outputs": [
        {
          "output_type": "execute_result",
          "data": {
            "text/plain": [
              "<matplotlib.axes._subplots.AxesSubplot at 0x7f691bb9c410>"
            ]
          },
          "metadata": {},
          "execution_count": 46
        },
        {
          "output_type": "display_data",
          "data": {
            "text/plain": [
              "<Figure size 432x288 with 2 Axes>"
            ],
            "image/png": "[encoded data removed]"
          },
          "metadata": {
            "needs_background": "light"
          }
        }
      ]
    },
    {
      "cell_type": "code",
      "source": [
        "# Scatterplot Energy VS dB\n",
        "sns.scatterplot(data=top_songs, x='nrgy',y='dB')"
      ],
      "metadata": {
        "colab": {
          "base_uri": "https://localhost:8080/",
          "height": 296
        },
        "id": "irsmLIpnotqM",
        "outputId": "be33c070-cfda-4a7a-cc35-7a23c6032787"
      },
      "execution_count": null,
      "outputs": [
        {
          "output_type": "execute_result",
          "data": {
            "text/plain": [
              "<matplotlib.axes._subplots.AxesSubplot at 0x7f691bb002d0>"
            ]
          },
          "metadata": {},
          "execution_count": 47
        },
        {
          "output_type": "display_data",
          "data": {
            "text/plain": [
              "<Figure size 432x288 with 1 Axes>"
            ],
            "image/png": "[encoded data removed]"
          },
          "metadata": {
            "needs_background": "light"
          }
        }
      ]
    },
    {
      "cell_type": "code",
      "source": [
        "# Scatterplot Acousticness VS Energy\n",
        "sns.scatterplot(data=top_songs, x='acous',y='nrgy')"
      ],
      "metadata": {
        "colab": {
          "base_uri": "https://localhost:8080/",
          "height": 296
        },
        "id": "0Aj3I3iFpCAi",
        "outputId": "885c4847-84cb-4b2f-b797-9c3bde606526"
      },
      "execution_count": null,
      "outputs": [
        {
          "output_type": "execute_result",
          "data": {
            "text/plain": [
              "<matplotlib.axes._subplots.AxesSubplot at 0x7f691ba82950>"
            ]
          },
          "metadata": {},
          "execution_count": 48
        },
        {
          "output_type": "display_data",
          "data": {
            "text/plain": [
              "<Figure size 432x288 with 1 Axes>"
            ],
            "image/png": "[encoded data removed]"
          },
          "metadata": {
            "needs_background": "light"
          }
        }
      ]
    },
    {
      "cell_type": "markdown",
      "metadata": {
        "id": "HM0Hi7VUGe14"
      },
      "source": [
        "**Q2:** Choose one or two correlations and describe what the magnitude and direction of the correlation suggests about the relationship between the two variables."
      ]
    },
    {
      "cell_type": "markdown",
      "source": [
        "**1. Energy - Loudness (dB)**\n",
        "\n",
        "This appears to be one of the largest positive correlations in our dataset. A positive correlation suggests that as the Energy value in a given song increases, the loudness value also tends to increase. This would make sense, as louder music usually serves the purpose of music at exciting events like sports games or clubs. A higher volume level also has some physical effects on the body, that could generate an energetic feeling.\n",
        "\n",
        "**2. Acousticness - Energy**\n",
        "\n",
        "This is the largest negative correlation in our dataset. It is negative meaning as a songs Acoutsic rating increases, the Energy value tends to decrease. This correlation is what we would expect given what we know about music. Acoustic instruments tend to be quieter than electric ones. And because we know about the relationship between loudness and energy, we would expect this relationship to occur aswell."
      ],
      "metadata": {
        "id": "nUjY3daBMcun"
      }
    },
    {
      "cell_type": "markdown",
      "metadata": {
        "id": "D8nlQspTG8Ll"
      },
      "source": [
        "## <font color='lightblue'>5. Discussion</font>\n",
        "\n",
        "**Q3:** Did this exploritory data analysis help you better understand your chosen dataset? If so how? Is there still parts that don't make sense? \n",
        "> The idea with this question is not to see if you know everything about this dataset, just how EDA might have helped (or not!)."
      ]
    },
    {
      "cell_type": "markdown",
      "source": [
        "Yes it did. It helped me gain an understanding of these variables that spotify gives to songs (nrgy, dnce, val, etc.), because there isnt one scientific definition for what those fields should be. They are in nature a little subjective, so we first need to get a feel for how spotify has defined them to really understand and start working with the data."
      ],
      "metadata": {
        "id": "2dZqQcZsPIUd"
      }
    }
  ]
}